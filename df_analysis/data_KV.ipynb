{
 "cells": [
  {
   "cell_type": "code",
   "execution_count": 2,
   "metadata": {
    "collapsed": true,
    "pycharm": {
     "name": "#%%\n"
    }
   },
   "outputs": [],
   "source": [
    "import pandas as pd\n",
    "import numpy as np"
   ]
  },
  {
   "cell_type": "code",
   "execution_count": 3,
   "outputs": [
    {
     "data": {
      "text/plain": "330"
     },
     "execution_count": 3,
     "metadata": {},
     "output_type": "execute_result"
    }
   ],
   "source": [
    "data = pd.read_csv(\"neutropenia_sepsis_basic_miss.csv\")\n",
    "#行数\n",
    "data.shape[0] #396\n",
    "#列数\n",
    "#data.shape[1] #69"
   ],
   "metadata": {
    "collapsed": false,
    "pycharm": {
     "name": "#%%\n"
    }
   }
  },
  {
   "cell_type": "code",
   "execution_count": 4,
   "outputs": [
    {
     "name": "stdout",
     "output_type": "stream",
     "text": [
      "AA\n",
      "154\n",
      "BB\n",
      "154\n",
      "CC\n",
      "198\n",
      "DD\n",
      "261\n",
      "EE\n",
      "3\n",
      "FF\n",
      "42\n",
      "GG\n",
      "91\n",
      "903\n"
     ]
    }
   ],
   "source": [
    "kk=0\n",
    "for i,v in data.isnull().sum().items():\n",
    "    if v>0:\n",
    "        print(i)\n",
    "        print(v)\n",
    "        kk=kk+v\n",
    "print(kk)"
   ],
   "metadata": {
    "collapsed": false,
    "pycharm": {
     "name": "#%%\n"
    }
   }
  },
  {
   "cell_type": "code",
   "execution_count": 5,
   "outputs": [
    {
     "data": {
      "text/plain": "0"
     },
     "execution_count": 5,
     "metadata": {},
     "output_type": "execute_result"
    }
   ],
   "source": [
    "#删除含有缺失值的行\n",
    "data = data.dropna(thresh=10)\n",
    "#行数\n",
    "data.shape[0] #313\n",
    "#列数\n",
    "#data.shape[1] #69"
   ],
   "metadata": {
    "collapsed": false,
    "pycharm": {
     "name": "#%%\n"
    }
   }
  },
  {
   "cell_type": "code",
   "execution_count": 6,
   "outputs": [],
   "source": [
    "#data.to_csv(\"neutropenia_sepsis_basic_detNA.csv\")"
   ],
   "metadata": {
    "collapsed": false,
    "pycharm": {
     "name": "#%%\n"
    }
   }
  },
  {
   "cell_type": "code",
   "execution_count": 7,
   "outputs": [
    {
     "data": {
      "text/plain": "330"
     },
     "execution_count": 7,
     "metadata": {},
     "output_type": "execute_result"
    }
   ],
   "source": [
    "#round 2\n",
    "data = pd.read_csv(\"eICU_neutropenia_sepsis_basic_miss.csv\")\n",
    "#行数\n",
    "data.shape[0] #331\n",
    "#列数\n",
    "#data.shape[1] #67\n"
   ],
   "metadata": {
    "collapsed": false,
    "pycharm": {
     "name": "#%%\n"
    }
   }
  },
  {
   "cell_type": "code",
   "execution_count": 8,
   "outputs": [
    {
     "name": "stdout",
     "output_type": "stream",
     "text": [
      "AA\n",
      "154\n",
      "BB\n",
      "154\n",
      "CC\n",
      "198\n",
      "DD\n",
      "261\n",
      "EE\n",
      "3\n",
      "FF\n",
      "42\n",
      "GG\n",
      "91\n"
     ]
    }
   ],
   "source": [
    "#每列缺失情况，高于20%要考虑是否值得使用\n",
    "for i,v in data.isnull().sum().items():\n",
    "    if v>0:\n",
    "        print(i)\n",
    "        print(v)"
   ],
   "metadata": {
    "collapsed": false,
    "pycharm": {
     "name": "#%%\n"
    }
   }
  },
  {
   "cell_type": "code",
   "execution_count": 9,
   "outputs": [
    {
     "data": {
      "text/plain": "33"
     },
     "execution_count": 9,
     "metadata": {},
     "output_type": "execute_result"
    }
   ],
   "source": [
    "#删除含有缺失值的行\n",
    "data = data.dropna()\n",
    "#行数\n",
    "data.shape[0] #313\n",
    "#列数\n",
    "#data.shape[1] #69\n",
    "\n"
   ],
   "metadata": {
    "collapsed": false,
    "pycharm": {
     "name": "#%%\n"
    }
   }
  },
  {
   "cell_type": "code",
   "execution_count": 10,
   "outputs": [],
   "source": [
    "data.to_csv(\"eICU_neutropenia_sepsis_basic_detNA.csv\")"
   ],
   "metadata": {
    "collapsed": false,
    "pycharm": {
     "name": "#%%\n"
    }
   }
  },
  {
   "cell_type": "code",
   "execution_count": null,
   "outputs": [],
   "source": [],
   "metadata": {
    "collapsed": false,
    "pycharm": {
     "name": "#%%\n"
    }
   }
  }
 ],
 "metadata": {
  "kernelspec": {
   "display_name": "Python 3",
   "language": "python",
   "name": "python3"
  },
  "language_info": {
   "codemirror_mode": {
    "name": "ipython",
    "version": 2
   },
   "file_extension": ".py",
   "mimetype": "text/x-python",
   "name": "python",
   "nbconvert_exporter": "python",
   "pygments_lexer": "ipython2",
   "version": "2.7.6"
  }
 },
 "nbformat": 4,
 "nbformat_minor": 0
}