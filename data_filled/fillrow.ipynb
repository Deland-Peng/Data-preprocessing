{
 "cells": [
  {
   "cell_type": "code",
   "execution_count": 1,
   "metadata": {
    "collapsed": true,
    "pycharm": {
     "name": "#%%\n"
    }
   },
   "outputs": [],
   "source": [
    "import pandas as pd"
   ]
  },
  {
   "cell_type": "code",
   "execution_count": 13,
   "outputs": [
    {
     "data": {
      "text/plain": "   subject_id   stay_id           icu_intime            charttime  heart_rate  \\\n0    12207593  30000646  2194-04-29T01:39:22  2194-04-29T01:41:00       100.0   \n1    12207593  30000646  2194-04-29T01:39:22  2194-04-29T03:00:00        97.0   \n2    12207593  30000646  2194-04-29T01:39:22  2194-04-29T04:00:00        93.0   \n3    12207593  30000646  2194-04-29T01:39:22  2194-04-29T05:00:00        87.0   \n4    12207593  30000646  2194-04-29T01:39:22  2194-04-29T05:55:00        89.0   \n5    12207593  30000646  2194-04-29T01:39:22  2194-04-29T06:40:00        94.0   \n6    12207593  30000646  2194-04-29T01:39:22  2194-04-29T08:00:00        94.0   \n7    12207593  30000646  2194-04-29T01:39:22  2194-04-30T00:00:00        87.0   \n8    12207593  30000646  2194-04-29T01:39:22  2194-04-30T01:00:00        85.0   \n9    16513856  30001446  2186-04-12T03:49:00  2186-04-12T04:00:00        82.0   \n\n    mbp  resp_rate  temperature  spo2  p1  p2  \n0  75.0       28.0          NaN  97.0   0   1  \n1  67.0       19.0          NaN  94.0   1   1  \n2  67.0       18.0          NaN  98.0   2   1  \n3  73.0       24.0        37.11  98.0   3   1  \n4   NaN       32.0          NaN  91.0   4   1  \n5  56.0       33.0          NaN   NaN   5   1  \n6  56.0       23.0        37.89  93.0   6   1  \n7  67.0       22.0        36.67  95.0  22   1  \n8  56.0       16.0          NaN  96.0  23   1  \n9   NaN       22.0        36.72  90.0   0   1  ",
      "text/html": "<div>\n<style scoped>\n    .dataframe tbody tr th:only-of-type {\n        vertical-align: middle;\n    }\n\n    .dataframe tbody tr th {\n        vertical-align: top;\n    }\n\n    .dataframe thead th {\n        text-align: right;\n    }\n</style>\n<table border=\"1\" class=\"dataframe\">\n  <thead>\n    <tr style=\"text-align: right;\">\n      <th></th>\n      <th>subject_id</th>\n      <th>stay_id</th>\n      <th>icu_intime</th>\n      <th>charttime</th>\n      <th>heart_rate</th>\n      <th>mbp</th>\n      <th>resp_rate</th>\n      <th>temperature</th>\n      <th>spo2</th>\n      <th>p1</th>\n      <th>p2</th>\n    </tr>\n  </thead>\n  <tbody>\n    <tr>\n      <th>0</th>\n      <td>12207593</td>\n      <td>30000646</td>\n      <td>2194-04-29T01:39:22</td>\n      <td>2194-04-29T01:41:00</td>\n      <td>100.0</td>\n      <td>75.0</td>\n      <td>28.0</td>\n      <td>NaN</td>\n      <td>97.0</td>\n      <td>0</td>\n      <td>1</td>\n    </tr>\n    <tr>\n      <th>1</th>\n      <td>12207593</td>\n      <td>30000646</td>\n      <td>2194-04-29T01:39:22</td>\n      <td>2194-04-29T03:00:00</td>\n      <td>97.0</td>\n      <td>67.0</td>\n      <td>19.0</td>\n      <td>NaN</td>\n      <td>94.0</td>\n      <td>1</td>\n      <td>1</td>\n    </tr>\n    <tr>\n      <th>2</th>\n      <td>12207593</td>\n      <td>30000646</td>\n      <td>2194-04-29T01:39:22</td>\n      <td>2194-04-29T04:00:00</td>\n      <td>93.0</td>\n      <td>67.0</td>\n      <td>18.0</td>\n      <td>NaN</td>\n      <td>98.0</td>\n      <td>2</td>\n      <td>1</td>\n    </tr>\n    <tr>\n      <th>3</th>\n      <td>12207593</td>\n      <td>30000646</td>\n      <td>2194-04-29T01:39:22</td>\n      <td>2194-04-29T05:00:00</td>\n      <td>87.0</td>\n      <td>73.0</td>\n      <td>24.0</td>\n      <td>37.11</td>\n      <td>98.0</td>\n      <td>3</td>\n      <td>1</td>\n    </tr>\n    <tr>\n      <th>4</th>\n      <td>12207593</td>\n      <td>30000646</td>\n      <td>2194-04-29T01:39:22</td>\n      <td>2194-04-29T05:55:00</td>\n      <td>89.0</td>\n      <td>NaN</td>\n      <td>32.0</td>\n      <td>NaN</td>\n      <td>91.0</td>\n      <td>4</td>\n      <td>1</td>\n    </tr>\n    <tr>\n      <th>5</th>\n      <td>12207593</td>\n      <td>30000646</td>\n      <td>2194-04-29T01:39:22</td>\n      <td>2194-04-29T06:40:00</td>\n      <td>94.0</td>\n      <td>56.0</td>\n      <td>33.0</td>\n      <td>NaN</td>\n      <td>NaN</td>\n      <td>5</td>\n      <td>1</td>\n    </tr>\n    <tr>\n      <th>6</th>\n      <td>12207593</td>\n      <td>30000646</td>\n      <td>2194-04-29T01:39:22</td>\n      <td>2194-04-29T08:00:00</td>\n      <td>94.0</td>\n      <td>56.0</td>\n      <td>23.0</td>\n      <td>37.89</td>\n      <td>93.0</td>\n      <td>6</td>\n      <td>1</td>\n    </tr>\n    <tr>\n      <th>7</th>\n      <td>12207593</td>\n      <td>30000646</td>\n      <td>2194-04-29T01:39:22</td>\n      <td>2194-04-30T00:00:00</td>\n      <td>87.0</td>\n      <td>67.0</td>\n      <td>22.0</td>\n      <td>36.67</td>\n      <td>95.0</td>\n      <td>22</td>\n      <td>1</td>\n    </tr>\n    <tr>\n      <th>8</th>\n      <td>12207593</td>\n      <td>30000646</td>\n      <td>2194-04-29T01:39:22</td>\n      <td>2194-04-30T01:00:00</td>\n      <td>85.0</td>\n      <td>56.0</td>\n      <td>16.0</td>\n      <td>NaN</td>\n      <td>96.0</td>\n      <td>23</td>\n      <td>1</td>\n    </tr>\n    <tr>\n      <th>9</th>\n      <td>16513856</td>\n      <td>30001446</td>\n      <td>2186-04-12T03:49:00</td>\n      <td>2186-04-12T04:00:00</td>\n      <td>82.0</td>\n      <td>NaN</td>\n      <td>22.0</td>\n      <td>36.72</td>\n      <td>90.0</td>\n      <td>0</td>\n      <td>1</td>\n    </tr>\n  </tbody>\n</table>\n</div>"
     },
     "execution_count": 13,
     "metadata": {},
     "output_type": "execute_result"
    }
   ],
   "source": [
    "data = pd.read_csv('vital_data.csv')\n",
    "#data = pd.read_csv('vital_data_test.csv')\n",
    "data.head(10)"
   ],
   "metadata": {
    "collapsed": false,
    "pycharm": {
     "name": "#%%\n"
    }
   }
  },
  {
   "cell_type": "code",
   "execution_count": 17,
   "outputs": [
    {
     "data": {
      "text/plain": "subject_id     129\nstay_id        129\nicu_intime     129\ncharttime      129\nheart_rate     106\nmbp             87\nresp_rate      103\ntemperature     29\nspo2            96\np1             129\np2             129\ndtype: int64"
     },
     "execution_count": 17,
     "metadata": {},
     "output_type": "execute_result"
    }
   ],
   "source": [
    "data.count()"
   ],
   "metadata": {
    "collapsed": false,
    "pycharm": {
     "name": "#%%\n"
    }
   }
  },
  {
   "cell_type": "code",
   "execution_count": 18,
   "outputs": [
    {
     "name": "stdout",
     "output_type": "stream",
     "text": [
      "   subject_id  stay_id           icu_intime            charttime  heart_rate  \\\n",
      "0           1        1  2194-04-29T01:39:22  2134-06-05T05:00:00           1   \n",
      "\n",
      "   mbp  resp_rate  temperature  spo2  p1  p2  \n",
      "0    1          1            1     1  23   1  \n"
     ]
    }
   ],
   "source": [
    "#均填入当前表格的总条数\n",
    "i=129\n",
    "total=129\n",
    "\n",
    "\n",
    "#提前填入一个对象作为初始化\n",
    "#第一个对象\n",
    "target_id=0\n",
    "#上一个对象\n",
    "target_last = 0\n",
    "#临时存储对象\n",
    "#newdata=pd.DataFrame(columns=['subject_id','stay_id','icu_intime','charttime','heart_rate','mbp','resp_rate','temperature','spo2','p1','p2'])\n",
    "newdata=pd.DataFrame({'subject_id':[1],'stay_id':[1],'icu_intime':['2194-04-29T01:39:22'],'charttime':['2134-06-05T05:00:00']\n",
    "                                                   ,'heart_rate':[1],'mbp':[1],'resp_rate':[1],'temperature':[1],'spo2':[1],\n",
    "                                                'p1':[23],'p2':[1]})\n",
    "print(newdata)"
   ],
   "metadata": {
    "collapsed": false,
    "pycharm": {
     "name": "#%%\n"
    }
   }
  },
  {
   "cell_type": "code",
   "execution_count": 21,
   "outputs": [
    {
     "name": "stdout",
     "output_type": "stream",
     "text": [
      "剩余个数： -1\n",
      "当前总数： 215\n",
      "     subject_id   stay_id           icu_intime            charttime  \\\n",
      "129           1         1  2194-04-29T01:39:22  2134-06-05T05:00:00   \n",
      "0      12207593  30000646  2194-04-29T01:39:22  2194-04-29T01:41:00   \n",
      "1      12207593  30000646  2194-04-29T01:39:22  2194-04-29T03:00:00   \n",
      "2      12207593  30000646  2194-04-29T01:39:22  2194-04-29T04:00:00   \n",
      "3      12207593  30000646  2194-04-29T01:39:22  2194-04-29T05:00:00   \n",
      "..          ...       ...                  ...                  ...   \n",
      "213    10369174  30004144  2126-04-04T13:20:25  2126-04-05T05:00:00   \n",
      "214    10369174  30004144  2126-04-04T13:20:25  2126-04-05T05:00:00   \n",
      "215    10369174  30004144  2126-04-04T13:20:25  2126-04-05T05:00:00   \n",
      "216    10369174  30004144  2126-04-04T13:20:25  2126-04-05T05:00:00   \n",
      "217    10369174  30004144  2126-04-04T13:20:25  2126-04-05T05:00:00   \n",
      "\n",
      "     heart_rate   mbp  resp_rate  temperature  spo2  p1  p2  \n",
      "129         1.0   1.0        1.0         1.00   1.0  23   1  \n",
      "0         100.0  75.0       28.0          NaN  97.0   0   1  \n",
      "1          97.0  67.0       19.0          NaN  94.0   1   1  \n",
      "2          93.0  67.0       18.0          NaN  98.0   2   1  \n",
      "3          87.0  73.0       24.0        37.11  98.0   3   1  \n",
      "..          ...   ...        ...          ...   ...  ..  ..  \n",
      "213        61.0  60.0       20.0          NaN  95.0  19   1  \n",
      "214        61.0  60.0       20.0          NaN  95.0  20   1  \n",
      "215        61.0  60.0       20.0          NaN  95.0  21   1  \n",
      "216        61.0  60.0       20.0          NaN  95.0  22   1  \n",
      "217        61.0  60.0       20.0          NaN  95.0  23   1  \n",
      "\n",
      "[218 rows x 11 columns]\n"
     ]
    }
   ],
   "source": [
    "for row in data.itertuples():\n",
    "    #原表记录是否都遍历完整\n",
    "    if i==-1 :\n",
    "        #已遍历完毕\n",
    "        break\n",
    "    else:\n",
    "        #待处理数计算\n",
    "        i=i-1\n",
    "        print(\"剩余个数：\",i)\n",
    "        #s1.与上一个对象进行对比，判断是否为新对象:stay_id vs target_id\n",
    "        #新对象\n",
    "        if row.stay_id != target_id :\n",
    "            #处理尾部数据\n",
    "                #看看上一个最后一条记录是否为p1=23（是否缺尾部数据） or (target_last==0初始判断)\n",
    "                if target_last==0 or target_last.p1==23:\n",
    "                   pass\n",
    "                else:\n",
    "                    #缺尾部\n",
    "                    k=23-target_last.p1\n",
    "                    ad=target_last.p1+1\n",
    "                    while ad<= 23:\n",
    "                        data_temp=pd.DataFrame({'subject_id':[target_last.subject_id],'stay_id':[target_last.stay_id],'icu_intime':[target_last.icu_intime],'charttime':[target_last.charttime]\n",
    "                                                   ,'heart_rate':[target_last.heart_rate],'mbp':[target_last.mbp],'resp_rate':[target_last.resp_rate],'temperature':[target_last.temperature],'spo2':[target_last.spo2],\n",
    "                                                'p1':[ad],'p2':[1]})\n",
    "                        #【利用pd.concat([df1,df2], ignore_index=True)合并两个dataframe】为其中一个dataframe添加行的操作\n",
    "                        newdata=pd.concat([newdata,data_temp], ignore_index=True)\n",
    "                        ad=ad+1\n",
    "                    #统计总数\n",
    "                    total = total+k\n",
    "                    print(\"当前总数：\",total)\n",
    "            #处理头部数据\n",
    "                #s3 target_id更新为当前stay_id\n",
    "                target_id = row.stay_id\n",
    "                if row.p1 ==0:\n",
    "                    # 为0则不需要操作\n",
    "                    pass\n",
    "                else:\n",
    "                    # 不为0，则表明连第一次记录都缺，需要插入新值\n",
    "                    k=(row.p1-1)-0\n",
    "                    ad=0\n",
    "                    while ad!= row.p1:\n",
    "                        data_temp=pd.DataFrame({'subject_id':[row.subject_id],'stay_id':[row.stay_id],'icu_intime':[row.icu_intime],'charttime':[row.charttime]\n",
    "                                                       ,'heart_rate':[row.heart_rate],'mbp':[row.mbp],'resp_rate':[row.resp_rate],'temperature':[row.temperature],'spo2':[row.spo2],\n",
    "                                                    'p1':[ad],'p2':[1]})\n",
    "                        newdata=pd.concat([newdata,data_temp], ignore_index=True)\n",
    "                        ad=ad+1\n",
    "                    #统计总数\n",
    "                    total = total+k\n",
    "                    print(\"当前总数：\",total)\n",
    "         #非新对象\n",
    "        else:\n",
    "            #s4.target_id不变\n",
    "                #p1值是否为上一个p1值+1\n",
    "            if row.p1==(target_last.p1 + 1):\n",
    "                    #是，不用操作\n",
    "                    pass\n",
    "            else:\n",
    "                    #否,插入新的记录，条数为差额\n",
    "                    k=(row.p1-1)-target_last.p1\n",
    "                    ad=target_last.p1+1\n",
    "                    while ad!= row.p1:\n",
    "                        data_temp=pd.DataFrame({'subject_id':[row.subject_id],'stay_id':[row.stay_id],'icu_intime':[row.icu_intime],'charttime':[row.charttime]\n",
    "                                                   ,'heart_rate':[row.heart_rate],'mbp':[row.mbp],'resp_rate':[row.resp_rate],'temperature':[row.temperature],'spo2':[row.spo2],\n",
    "                                                'p1':[ad],'p2':[1]})\n",
    "                        newdata=pd.concat([newdata,data_temp], ignore_index=True)\n",
    "                        ad=ad+1\n",
    "                    #统计总数\n",
    "                    total = total+k\n",
    "                    print(\"当前总数：\",total)\n",
    "        #刷新一下“上个对象”为当前对象\n",
    "        target_last = row\n",
    "\n",
    "#合并两个表\n",
    "dataconcat=pd.concat([data,newdata], ignore_index=True)\n",
    "#【利用dataframe。.sort_values(by=['col1', 'col2'])】根据选中的列值进行重新排序\n",
    "dataconcat=dataconcat.sort_values(by=['stay_id', 'p1'])\n",
    "print(dataconcat)"
   ],
   "metadata": {
    "collapsed": false,
    "pycharm": {
     "name": "#%%\n"
    }
   }
  },
  {
   "cell_type": "code",
   "execution_count": 23,
   "outputs": [],
   "source": [
    "dataconcat.to_csv('vital_data_filled.csv')"
   ],
   "metadata": {
    "collapsed": false,
    "pycharm": {
     "name": "#%%\n"
    }
   }
  },
  {
   "cell_type": "code",
   "execution_count": null,
   "outputs": [],
   "source": [],
   "metadata": {
    "collapsed": false,
    "pycharm": {
     "name": "#%%\n"
    }
   }
  }
 ],
 "metadata": {
  "kernelspec": {
   "display_name": "Python 3",
   "language": "python",
   "name": "python3"
  },
  "language_info": {
   "codemirror_mode": {
    "name": "ipython",
    "version": 2
   },
   "file_extension": ".py",
   "mimetype": "text/x-python",
   "name": "python",
   "nbconvert_exporter": "python",
   "pygments_lexer": "ipython2",
   "version": "2.7.6"
  }
 },
 "nbformat": 4,
 "nbformat_minor": 0
}